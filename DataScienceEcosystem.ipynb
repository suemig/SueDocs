{
 "cells": [
  {
   "cell_type": "markdown",
   "id": "3831a0c2-c9d6-457c-b234-560d95b3160a",
   "metadata": {},
   "source": [
    "# Data Science Tools and Ecosystem"
   ]
  },
  {
   "cell_type": "code",
   "execution_count": null,
   "id": "5aa48ba0-005f-44a2-af51-8001d1cb2038",
   "metadata": {},
   "outputs": [],
   "source": []
  },
  {
   "cell_type": "markdown",
   "id": "0d5e5d89-d326-441c-9466-cc00cd9c3530",
   "metadata": {},
   "source": [
    "In this notebook, Data Science Tools and Ecosystem are sumarized"
   ]
  },
  {
   "cell_type": "code",
   "execution_count": null,
   "id": "a6b35ea8-a938-447f-b975-1e0acb555a3e",
   "metadata": {},
   "outputs": [],
   "source": []
  },
  {
   "cell_type": "markdown",
   "id": "5d889d34-9b8c-4307-9ea8-ab3cdd340088",
   "metadata": {},
   "source": [
    "__Objectives__\n",
    "+ use of markdowns \n",
    "+ popular languajes used in data science\n",
    "+ data science tools\n",
    "+ data science libraries\n",
    "+ evaluation of arithmetical expressions\n"
   ]
  },
  {
   "cell_type": "markdown",
   "id": "74b848b4-4e75-41bd-976e-739085e5e2b1",
   "metadata": {},
   "source": [
    "Some of the popular languages that Data Scientists use are:\n",
    "1. Pyton\n",
    "2. R\n",
    "3. SQL"
   ]
  },
  {
   "cell_type": "markdown",
   "id": "592b4f33-9983-4469-8694-ef0c2c2a490e",
   "metadata": {},
   "source": [
    "Some of the commonly used libraries used by Data Scientists include:\n",
    "1. Pandas\n",
    "2. Scipy\n",
    "3. Numpy\n",
    "4. Matplotlib\n",
    "5. Tensorflow\n"
   ]
  },
  {
   "cell_type": "markdown",
   "id": "a9bbd60e-7f26-4332-b5ab-f503a1ed0254",
   "metadata": {},
   "source": [
    "|Data Science Tools|\n",
    "|------------------|\n",
    "|Anaconda          |\n",
    "| Jupyter Notebook |\n",
    "| Jupyter Lab      |\n",
    "|R Studio          |\n",
    "|Visual Studio     |\n",
    "| Google Colab     |\n"
   ]
  },
  {
   "cell_type": "markdown",
   "id": "7f878052-efc3-49a6-b892-70c4aac8e702",
   "metadata": {},
   "source": [
    "### Below are a few examples of evaluating arithmetic expressions in Python"
   ]
  },
  {
   "cell_type": "code",
   "execution_count": 11,
   "id": "c9c55dd2-ab09-4237-8074-cdac41fc45cb",
   "metadata": {},
   "outputs": [
    {
     "data": {
      "text/plain": [
       "17"
      ]
     },
     "execution_count": 11,
     "metadata": {},
     "output_type": "execute_result"
    }
   ],
   "source": [
    "# This a simple arithmetic expression to mutiply then add integers\n",
    "(3*4)+5   \n"
   ]
  },
  {
   "cell_type": "code",
   "execution_count": 15,
   "id": "93b7dacf-4d3d-43e5-86cd-3222661a6daa",
   "metadata": {},
   "outputs": [
    {
     "name": "stdout",
     "output_type": "stream",
     "text": [
      "3.3333333333333335\n"
     ]
    }
   ],
   "source": [
    "#This will convert 200 minutes to hours by diving by 60\n",
    "#H=time in hours\n",
    "#m=time in minutes\n",
    "m=200\n",
    "H=m/60\n",
    "\n",
    "print(H)\n"
   ]
  },
  {
   "cell_type": "markdown",
   "id": "f210d5da-60b6-4b9f-bfaf-ae75b99e9292",
   "metadata": {},
   "source": [
    "## Autor\n",
    "Suemi Alejandra González Azcorra\n",
    "\n"
   ]
  },
  {
   "cell_type": "code",
   "execution_count": null,
   "id": "81323025-8ad9-4e6d-8431-af68c14564bb",
   "metadata": {},
   "outputs": [],
   "source": []
  }
 ],
 "metadata": {
  "kernelspec": {
   "display_name": "Python 3 (ipykernel)",
   "language": "python",
   "name": "python3"
  },
  "language_info": {
   "codemirror_mode": {
    "name": "ipython",
    "version": 3
   },
   "file_extension": ".py",
   "mimetype": "text/x-python",
   "name": "python",
   "nbconvert_exporter": "python",
   "pygments_lexer": "ipython3",
   "version": "3.12.4"
  }
 },
 "nbformat": 4,
 "nbformat_minor": 5
}
